{
  "cells": [
    {
      "cell_type": "markdown",
      "metadata": {
        "id": "view-in-github"
      },
      "source": [
        "<a href=\"https://colab.research.google.com/github/pimang62/dacon-multimodal-vqa/blob/main/llava_train.ipynb\" target=\"_parent\"><img src=\"https://colab.research.google.com/assets/colab-badge.svg\" alt=\"Open In Colab\"/></a>"
      ]
    },
    {
      "cell_type": "code",
      "source": [
        "from google.colab import drive\n",
        "drive.mount('/content/drive')"
      ],
      "metadata": {
        "id": "wG_nGVoYgXv9"
      },
      "execution_count": null,
      "outputs": []
    },
    {
      "cell_type": "code",
      "execution_count": null,
      "metadata": {
        "id": "NwcQRwq0xXGH"
      },
      "outputs": [],
      "source": [
        "%cd /content\n",
        "!rm -rf LLaVA\n",
        "!rm -rf open.zip\n",
        "!rm -rf data\n",
        "!rm -rf transformers"
      ]
    },
    {
      "cell_type": "code",
      "source": [
        "!pip install jsonlines"
      ],
      "metadata": {
        "id": "HV7h4VkfwptN"
      },
      "execution_count": null,
      "outputs": []
    },
    {
      "cell_type": "code",
      "source": [
        "%cd /content\n",
        "!gdown https://drive.google.com/u/0/uc?id=1a9XB3r83ZCFWLOHBp8ooz3zQFl9rEIei&export=download"
      ],
      "metadata": {
        "id": "TmfFDFj_3Wso"
      },
      "execution_count": null,
      "outputs": []
    },
    {
      "cell_type": "code",
      "source": [
        "%cd /content\n",
        "!git clone https://github.com/dankang21/LLaVA.git"
      ],
      "metadata": {
        "id": "KWGUWFDaM0l7"
      },
      "execution_count": null,
      "outputs": []
    },
    {
      "cell_type": "code",
      "source": [
        "%cd /content\n",
        "!git clone https://github.com/huggingface/transformers"
      ],
      "metadata": {
        "id": "0ZFCFVgZiDT3"
      },
      "execution_count": null,
      "outputs": []
    },
    {
      "cell_type": "code",
      "source": [
        "import zipfile\n",
        "import os\n",
        "\n",
        "zip_file_path = '/content/open.zip'\n",
        "\n",
        "extracted_folder = '/content/data/'\n",
        "\n",
        "def extract_zip(zip_file, extract_to):\n",
        "    with zipfile.ZipFile(zip_file, 'r') as zip_ref:\n",
        "        zip_ref.extractall(extract_to)\n",
        "\n",
        "try:\n",
        "    extract_zip(zip_file_path, extracted_folder)\n",
        "except Exception as e:\n",
        "    print('file unzip error')"
      ],
      "metadata": {
        "id": "LfRVMSD5AS7W"
      },
      "execution_count": null,
      "outputs": []
    },
    {
      "cell_type": "code",
      "source": [
        "import csv\n",
        "import json\n",
        "\n",
        "with open('/content/data/test.csv', 'r') as f:\n",
        "    reader = csv.reader(f)\n",
        "    next(reader)\n",
        "    data = list(reader)"
      ],
      "metadata": {
        "id": "Q_S0FzTfTkgH"
      },
      "execution_count": 72,
      "outputs": []
    },
    {
      "cell_type": "code",
      "source": [
        "data = data[:1000]"
      ],
      "metadata": {
        "id": "cT5fKHEhStxP"
      },
      "execution_count": null,
      "outputs": []
    },
    {
      "cell_type": "code",
      "source": [
        "que = [\n",
        "    \"What is this? please describe in detail.\",\n",
        "    \"What is most important thing on this image?\",\n",
        "    \"How do you feel inside this image?\",\n",
        "    \"What is the relationship between central object and fringe?\",\n",
        "    \"What will be happened in next?\"\n",
        "]"
      ],
      "metadata": {
        "id": "bTY8z7MwbEh5"
      },
      "execution_count": 74,
      "outputs": []
    },
    {
      "cell_type": "code",
      "source": [
        "json_data = []\n",
        "for row in data:\n",
        "    id, image_id, question = row\n",
        "    for i in range(len(que)):\n",
        "      json_data.append({\n",
        "          \"question_id\": id+'_'+str(i),\n",
        "          \"image\": \"/content/data/image/test/\" + image_id + \".jpg\",\n",
        "          \"text\": que[i]\n",
        "      })\n",
        "\n",
        "jsonl_output_file = \"/content/data/test.jsonl\"\n",
        "\n",
        "with open(jsonl_output_file, \"w\") as file:\n",
        "    for obj in json_data:\n",
        "        json.dump(obj, file)\n",
        "        file.write(\"\\n\")"
      ],
      "metadata": {
        "id": "bKJhDrbgGt11"
      },
      "execution_count": 75,
      "outputs": []
    },
    {
      "cell_type": "code",
      "source": [
        "filename_data = {}\n",
        "for item in json_data:\n",
        "    image = item['image']\n",
        "    question_id = item['question_id'].rsplit('_', 1)[0]\n",
        "    if image not in filename_data:\n",
        "        filename_data[image] = {'question_id': question_id, 'image': image}\n",
        "\n",
        "filename_json = json.dumps(list(filename_data.values()), indent=4)\n",
        "print(filename_json)"
      ],
      "metadata": {
        "id": "0aYNiEIMjme6"
      },
      "execution_count": null,
      "outputs": []
    },
    {
      "cell_type": "code",
      "execution_count": null,
      "metadata": {
        "id": "gR3TRKdFuLsY"
      },
      "outputs": [],
      "source": [
        "%cd /content/LLaVA\n",
        "!pip install --upgrade pip\n",
        "!pip install -e .\n",
        "!pip install ninja\n",
        "!pip install flash-attn --no-build-isolation"
      ]
    },
    {
      "cell_type": "code",
      "source": [
        "%cd /content/LLaVA\n",
        "!python3 /content/LLaVA/llava/eval/model_vqa.py \\\n",
        "    --model-path liuhaotian/LLaVA-Lightning-MPT-7B-preview \\\n",
        "    --question-file \\\n",
        "    /content/data/test.jsonl \\\n",
        "    --image-folder \\\n",
        "   /content/image/test \\\n",
        "    --answers-file \\\n",
        "    /content/data/result.jsonl"
      ],
      "metadata": {
        "id": "OJSecKVOFhGl"
      },
      "execution_count": null,
      "outputs": []
    },
    {
      "cell_type": "markdown",
      "source": [
        "## Submission"
      ],
      "metadata": {
        "id": "PuDGxnwvvR4q"
      }
    },
    {
      "cell_type": "code",
      "source": [
        "%cd /content\n",
        "\n",
        "import pandas as pd\n",
        "\n",
        "import json\n",
        "grouped_data = {}\n",
        "with open('/content/data/result.jsonl', 'r') as file:\n",
        "  answer = []\n",
        "  for line in file:\n",
        "    info = json.loads(line)\n",
        "    key = info['question_id'].rsplit('_', 1)[0]\n",
        "    if key not in grouped_data:\n",
        "      grouped_data[key] = info['text']\n",
        "    else:\n",
        "      grouped_data[key] += ' ' + info['text']\n",
        "\n",
        "result_json = json.dumps(grouped_data, indent=2)\n",
        "print(result_json)"
      ],
      "metadata": {
        "id": "DrigvP9pnQAZ"
      },
      "execution_count": null,
      "outputs": []
    },
    {
      "cell_type": "code",
      "source": [
        "output_json = filename_data.values()\n",
        "\n",
        "for item in output_json:\n",
        "    question_id = item[\"question_id\"]\n",
        "    if question_id in grouped_data:\n",
        "        item[\"text\"] = grouped_data[question_id]"
      ],
      "metadata": {
        "id": "2CZEwMnTl8vA"
      },
      "execution_count": 82,
      "outputs": []
    },
    {
      "cell_type": "code",
      "source": [
        "output = json.dumps(list(output_json), indent=2)\n",
        "print(output)"
      ],
      "metadata": {
        "id": "i9IfXi8DleWV"
      },
      "execution_count": null,
      "outputs": []
    },
    {
      "cell_type": "code",
      "source": [
        "%cd /content/transformers\n",
        "!pip install .\n",
        "!pip install --upgrade .\n",
        "!pip install sentencepiece"
      ],
      "metadata": {
        "id": "2uVoQISgt5BF"
      },
      "execution_count": null,
      "outputs": []
    },
    {
      "cell_type": "code",
      "source": [
        "import gc\n",
        "gc.collect()"
      ],
      "metadata": {
        "id": "R3z_5BnFo7_O"
      },
      "execution_count": null,
      "outputs": []
    },
    {
      "cell_type": "code",
      "source": [
        "import torch\n",
        "from transformers import PegasusForConditionalGeneration, PegasusTokenizer\n",
        "\n",
        "torch_device = 'cuda' if torch.cuda.is_available() else 'cpu'\n",
        "torch_device"
      ],
      "metadata": {
        "id": "Nkw43BhcpCfg"
      },
      "execution_count": null,
      "outputs": []
    },
    {
      "cell_type": "code",
      "source": [
        "model_name = 'google/pegasus-reddit_tifu'\n",
        "\n",
        "tokenizer = PegasusTokenizer.from_pretrained(model_name)\n",
        "model = PegasusForConditionalGeneration.from_pretrained(model_name).to(torch_device)"
      ],
      "metadata": {
        "id": "qo7Q4BwdpmKE"
      },
      "execution_count": null,
      "outputs": []
    },
    {
      "cell_type": "code",
      "source": [
        "for item in output_json:\n",
        "  batch = tokenizer.prepare_seq2seq_batch(item['text'], truncation=True, padding='longest', return_tensors=\"pt\").to(torch_device)\n",
        "  translated = model.generate(**batch)\n",
        "  item['result'] = tokenizer.batch_decode(translated, skip_special_tokens=True)"
      ],
      "metadata": {
        "id": "QPdH-FE1pZL0"
      },
      "execution_count": null,
      "outputs": []
    },
    {
      "cell_type": "code",
      "source": [
        "for item in output_json:\n",
        "    item.pop('question_id', None)\n",
        "    item.pop('text', None)"
      ],
      "metadata": {
        "id": "sdbr_VMErfdh"
      },
      "execution_count": null,
      "outputs": []
    },
    {
      "cell_type": "code",
      "source": [
        "output = json.dumps(list(output_json), indent=2)\n",
        "print(output)"
      ],
      "metadata": {
        "id": "1MFVEYuuqZ8P"
      },
      "execution_count": null,
      "outputs": []
    },
    {
      "cell_type": "code",
      "source": [
        "jsonl_output_file = \"/content/data/image_qurated.jsonl\"\n",
        "\n",
        "with open(jsonl_output_file, \"w\") as file:\n",
        "    for obj in output_json:\n",
        "        json.dump(obj, file)\n",
        "        file.write(\"\\n\")"
      ],
      "metadata": {
        "id": "dtklWdtluKsT"
      },
      "execution_count": null,
      "outputs": []
    }
  ],
  "metadata": {
    "accelerator": "GPU",
    "colab": {
      "machine_shape": "hm",
      "provenance": [],
      "gpuType": "A100"
    },
    "kernelspec": {
      "display_name": "Python 3",
      "name": "python3"
    },
    "language_info": {
      "codemirror_mode": {
        "name": "ipython",
        "version": 3
      },
      "file_extension": ".py",
      "mimetype": "text/x-python",
      "name": "python",
      "nbconvert_exporter": "python",
      "pygments_lexer": "ipython3",
      "version": "3.10.12"
    }
  },
  "nbformat": 4,
  "nbformat_minor": 0
}